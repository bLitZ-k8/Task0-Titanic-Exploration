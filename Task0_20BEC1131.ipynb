{
  "nbformat": 4,
  "nbformat_minor": 0,
  "metadata": {
    "colab": {
      "name": "Task0_20BEC1131.ipynb",
      "provenance": []
    },
    "kernelspec": {
      "name": "python3",
      "display_name": "Python 3"
    },
    "language_info": {
      "name": "python"
    }
  },
  "cells": [
    {
      "cell_type": "code",
      "metadata": {
        "id": "91p76qcmoftp"
      },
      "source": [
        "#20BEC1131\n",
        "#dependencies\n",
        "import pandas as pd\n",
        "import numpy as np\n",
        "import matplotlib.pyplot as plt"
      ],
      "execution_count": 4,
      "outputs": []
    },
    {
      "cell_type": "markdown",
      "metadata": {
        "id": "Pkx4jVXsMxP6"
      },
      "source": [
        "**TASK 1**"
      ]
    },
    {
      "cell_type": "code",
      "metadata": {
        "id": "1DocERcm9pED",
        "colab": {
          "base_uri": "https://localhost:8080/"
        },
        "outputId": "08d2157e-9ab5-45eb-fe39-5aa0fce6dda9"
      },
      "source": [
        "#connecting to drive\n",
        "from google.colab import drive\n",
        "drive.mount('/content/drive/')"
      ],
      "execution_count": 2,
      "outputs": [
        {
          "output_type": "stream",
          "name": "stdout",
          "text": [
            "Drive already mounted at /content/drive/; to attempt to forcibly remount, call drive.mount(\"/content/drive/\", force_remount=True).\n"
          ]
        }
      ]
    },
    {
      "cell_type": "code",
      "metadata": {
        "id": "Epgl048k_TYk"
      },
      "source": [
        "#creating dataframe and reading the contents of csv file\n",
        "#the dataset taken is the train.csv\n",
        "dat1 = pd.read_csv('/content/drive/MyDrive/DAC/titanic_train.csv')\n",
        "dat1"
      ],
      "execution_count": null,
      "outputs": []
    },
    {
      "cell_type": "markdown",
      "metadata": {
        "id": "hGu17zXlMpfm"
      },
      "source": [
        "**TASK 2**"
      ]
    },
    {
      "cell_type": "code",
      "metadata": {
        "id": "DRBGKpJpHfPs"
      },
      "source": [
        "#Removing all the NULL values from the dataset\n",
        "dat2 = dat1.dropna()\n",
        "dat2"
      ],
      "execution_count": null,
      "outputs": []
    },
    {
      "cell_type": "code",
      "metadata": {
        "id": "r2DJzVOHQf46"
      },
      "source": [
        "dat2.info() #shows that dat2 has no null values"
      ],
      "execution_count": null,
      "outputs": []
    },
    {
      "cell_type": "markdown",
      "metadata": {
        "id": "krpjVGscNJSC"
      },
      "source": [
        "**TASK 3**"
      ]
    },
    {
      "cell_type": "code",
      "metadata": {
        "id": "iDzjUcLXSBGj"
      },
      "source": [
        "#removing Name and PassengerId column\n",
        "dat3 = dat2.drop(columns = [\"Name\", \"PassengerId\"])\n",
        "dat3.head()"
      ],
      "execution_count": null,
      "outputs": []
    },
    {
      "cell_type": "markdown",
      "metadata": {
        "id": "kV8s7vDdUbL7"
      },
      "source": [
        "**TASK 4**"
      ]
    },
    {
      "cell_type": "code",
      "metadata": {
        "id": "d3sVeLWYUdJI"
      },
      "source": [
        "#doing a 80:20 split in the dataset using loc and iloc\n",
        "splitval = round(183*0.8) + 1 \n",
        "dat_80, dat_20 = dat3.iloc[:splitval,:], dat3.iloc[splitval:184,:]\n",
        "dat_80.info()\n",
        "print(\"\\n\")\n",
        "dat_20.info()\n",
        "#dat_80 has 80% content of data by number of rows and dat_20 has 20%"
      ],
      "execution_count": null,
      "outputs": []
    },
    {
      "cell_type": "markdown",
      "metadata": {
        "id": "B3KuFntCYGaw"
      },
      "source": [
        "**TASK 5**"
      ]
    },
    {
      "cell_type": "code",
      "metadata": {
        "id": "RCNxJHjiYIYn"
      },
      "source": [
        "#plotting histogram for Fare and Age columns of dat3 dataset\n",
        "farebin = ((dat3['Fare'].max() - dat3['Fare'].min())/14)\n",
        "#formula for determining bin width ^\n",
        "fig1, ax1 = plt.subplots(figsize = (12, 8))\n",
        "ax1.hist(dat3['Fare'], bins = round(farebin))\n",
        "plt.show()"
      ],
      "execution_count": null,
      "outputs": []
    },
    {
      "cell_type": "code",
      "metadata": {
        "id": "KbQTlmZYcawV"
      },
      "source": [
        "#similar process for Age as done for Fare above\n",
        "agebin = ((dat3['Age'].max() - dat3['Age'].min())/8)\n",
        "fig2, ax2 = plt.subplots(figsize = (12, 8))\n",
        "ax2.hist(dat3['Age'], bins = round(farebin))\n",
        "plt.show()"
      ],
      "execution_count": null,
      "outputs": []
    },
    {
      "cell_type": "markdown",
      "metadata": {
        "id": "0ewKTXZIdP8a"
      },
      "source": [
        "**TASK 6**"
      ]
    },
    {
      "cell_type": "code",
      "metadata": {
        "colab": {
          "base_uri": "https://localhost:8080/",
          "height": 265
        },
        "id": "UpJmPvEidRMZ",
        "outputId": "c153e12c-87ff-4a50-db8b-4b9f0711495e"
      },
      "source": [
        "#Plotting bar chart for all binary columns\n",
        "#we know from inspection that Survived and Sex are binary columns (0-1 and M-F)\n",
        "\n",
        "#we make 2 arrays containing the number of entries for each binary value\n",
        "#and we use length to find y axis values\n",
        "alive = [x for x in dat3['Survived'] if x==1]\n",
        "ded = [x for x in dat3['Survived'] if x==0]\n",
        "\n",
        "#xval1 are x axis values, similarly yval1 are y axis values\n",
        "xval1 = [alive[0], ded[0]]\n",
        "yval1 = [len(alive), len(ded)]\n",
        "bar1 = plt.bar(xval1, yval1, width=0.1, tick_label = ['alive','ded'])"
      ],
      "execution_count": 45,
      "outputs": [
        {
          "output_type": "display_data",
          "data": {
            "image/png": "[encoded data removed]",
            "text/plain": [
              "<Figure size 432x288 with 1 Axes>"
            ]
          },
          "metadata": {
            "needs_background": "light"
          }
        }
      ]
    },
    {
      "cell_type": "code",
      "metadata": {
        "colab": {
          "base_uri": "https://localhost:8080/",
          "height": 265
        },
        "id": "iL9seEGshOwk",
        "outputId": "a9b46a60-f7dc-43d9-a609-66812c519c26"
      },
      "source": [
        "#the procedure below is same as that done above except its for male and female\n",
        "male = [x for x in dat3['Sex'] if x=='male']\n",
        "female = [x for x in dat3['Sex'] if x=='female']\n",
        "xval2 = [male[0], female[0]]\n",
        "yval2 = [len(male), len(female)]\n",
        "bar2 = plt.bar(xval2, yval2, width=0.1, tick_label = ['male','female'])"
      ],
      "execution_count": 48,
      "outputs": [
        {
          "output_type": "display_data",
          "data": {
            "image/png": "[encoded data removed]",
            "text/plain": [
              "<Figure size 432x288 with 1 Axes>"
            ]
          },
          "metadata": {
            "needs_background": "light"
          }
        }
      ]
    }
  ]
}